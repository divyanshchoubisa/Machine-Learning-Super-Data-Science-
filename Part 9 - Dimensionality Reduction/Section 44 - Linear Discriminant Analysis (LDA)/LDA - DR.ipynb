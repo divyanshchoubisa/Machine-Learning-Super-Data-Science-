{
 "cells": [
  {
   "cell_type": "code",
   "execution_count": 1,
   "metadata": {},
   "outputs": [],
   "source": [
    "import numpy as np\n",
    "import matplotlib.pyplot as plt\n",
    "import pandas as pd"
   ]
  },
  {
   "cell_type": "code",
   "execution_count": 2,
   "metadata": {},
   "outputs": [
    {
     "data": {
      "text/html": [
       "<div>\n",
       "<style scoped>\n",
       "    .dataframe tbody tr th:only-of-type {\n",
       "        vertical-align: middle;\n",
       "    }\n",
       "\n",
       "    .dataframe tbody tr th {\n",
       "        vertical-align: top;\n",
       "    }\n",
       "\n",
       "    .dataframe thead th {\n",
       "        text-align: right;\n",
       "    }\n",
       "</style>\n",
       "<table border=\"1\" class=\"dataframe\">\n",
       "  <thead>\n",
       "    <tr style=\"text-align: right;\">\n",
       "      <th></th>\n",
       "      <th>Alcohol</th>\n",
       "      <th>Malic_Acid</th>\n",
       "      <th>Ash</th>\n",
       "      <th>Ash_Alcanity</th>\n",
       "      <th>Magnesium</th>\n",
       "      <th>Total_Phenols</th>\n",
       "      <th>Flavanoids</th>\n",
       "      <th>Nonflavanoid_Phenols</th>\n",
       "      <th>Proanthocyanins</th>\n",
       "      <th>Color_Intensity</th>\n",
       "      <th>Hue</th>\n",
       "      <th>OD280</th>\n",
       "      <th>Proline</th>\n",
       "      <th>Customer_Segment</th>\n",
       "    </tr>\n",
       "  </thead>\n",
       "  <tbody>\n",
       "    <tr>\n",
       "      <th>0</th>\n",
       "      <td>14.23</td>\n",
       "      <td>1.71</td>\n",
       "      <td>2.43</td>\n",
       "      <td>15.6</td>\n",
       "      <td>127</td>\n",
       "      <td>2.80</td>\n",
       "      <td>3.06</td>\n",
       "      <td>0.28</td>\n",
       "      <td>2.29</td>\n",
       "      <td>5.64</td>\n",
       "      <td>1.04</td>\n",
       "      <td>3.92</td>\n",
       "      <td>1065</td>\n",
       "      <td>1</td>\n",
       "    </tr>\n",
       "    <tr>\n",
       "      <th>1</th>\n",
       "      <td>13.20</td>\n",
       "      <td>1.78</td>\n",
       "      <td>2.14</td>\n",
       "      <td>11.2</td>\n",
       "      <td>100</td>\n",
       "      <td>2.65</td>\n",
       "      <td>2.76</td>\n",
       "      <td>0.26</td>\n",
       "      <td>1.28</td>\n",
       "      <td>4.38</td>\n",
       "      <td>1.05</td>\n",
       "      <td>3.40</td>\n",
       "      <td>1050</td>\n",
       "      <td>1</td>\n",
       "    </tr>\n",
       "    <tr>\n",
       "      <th>2</th>\n",
       "      <td>13.16</td>\n",
       "      <td>2.36</td>\n",
       "      <td>2.67</td>\n",
       "      <td>18.6</td>\n",
       "      <td>101</td>\n",
       "      <td>2.80</td>\n",
       "      <td>3.24</td>\n",
       "      <td>0.30</td>\n",
       "      <td>2.81</td>\n",
       "      <td>5.68</td>\n",
       "      <td>1.03</td>\n",
       "      <td>3.17</td>\n",
       "      <td>1185</td>\n",
       "      <td>1</td>\n",
       "    </tr>\n",
       "    <tr>\n",
       "      <th>3</th>\n",
       "      <td>14.37</td>\n",
       "      <td>1.95</td>\n",
       "      <td>2.50</td>\n",
       "      <td>16.8</td>\n",
       "      <td>113</td>\n",
       "      <td>3.85</td>\n",
       "      <td>3.49</td>\n",
       "      <td>0.24</td>\n",
       "      <td>2.18</td>\n",
       "      <td>7.80</td>\n",
       "      <td>0.86</td>\n",
       "      <td>3.45</td>\n",
       "      <td>1480</td>\n",
       "      <td>1</td>\n",
       "    </tr>\n",
       "    <tr>\n",
       "      <th>4</th>\n",
       "      <td>13.24</td>\n",
       "      <td>2.59</td>\n",
       "      <td>2.87</td>\n",
       "      <td>21.0</td>\n",
       "      <td>118</td>\n",
       "      <td>2.80</td>\n",
       "      <td>2.69</td>\n",
       "      <td>0.39</td>\n",
       "      <td>1.82</td>\n",
       "      <td>4.32</td>\n",
       "      <td>1.04</td>\n",
       "      <td>2.93</td>\n",
       "      <td>735</td>\n",
       "      <td>1</td>\n",
       "    </tr>\n",
       "  </tbody>\n",
       "</table>\n",
       "</div>"
      ],
      "text/plain": [
       "   Alcohol  Malic_Acid   Ash  Ash_Alcanity  Magnesium  Total_Phenols  \\\n",
       "0    14.23        1.71  2.43          15.6        127           2.80   \n",
       "1    13.20        1.78  2.14          11.2        100           2.65   \n",
       "2    13.16        2.36  2.67          18.6        101           2.80   \n",
       "3    14.37        1.95  2.50          16.8        113           3.85   \n",
       "4    13.24        2.59  2.87          21.0        118           2.80   \n",
       "\n",
       "   Flavanoids  Nonflavanoid_Phenols  Proanthocyanins  Color_Intensity   Hue  \\\n",
       "0        3.06                  0.28             2.29             5.64  1.04   \n",
       "1        2.76                  0.26             1.28             4.38  1.05   \n",
       "2        3.24                  0.30             2.81             5.68  1.03   \n",
       "3        3.49                  0.24             2.18             7.80  0.86   \n",
       "4        2.69                  0.39             1.82             4.32  1.04   \n",
       "\n",
       "   OD280  Proline  Customer_Segment  \n",
       "0   3.92     1065                 1  \n",
       "1   3.40     1050                 1  \n",
       "2   3.17     1185                 1  \n",
       "3   3.45     1480                 1  \n",
       "4   2.93      735                 1  "
      ]
     },
     "execution_count": 2,
     "metadata": {},
     "output_type": "execute_result"
    }
   ],
   "source": [
    "df = pd.read_csv('Wine.csv')\n",
    "df.head()"
   ]
  },
  {
   "cell_type": "code",
   "execution_count": 3,
   "metadata": {},
   "outputs": [],
   "source": [
    "X = df.iloc[:, 0:13].values\n",
    "y = df.iloc[:, 13].values"
   ]
  },
  {
   "cell_type": "code",
   "execution_count": 4,
   "metadata": {},
   "outputs": [
    {
     "data": {
      "text/plain": [
       "array([[1.423e+01, 1.710e+00, 2.430e+00, ..., 1.040e+00, 3.920e+00,\n",
       "        1.065e+03],\n",
       "       [1.320e+01, 1.780e+00, 2.140e+00, ..., 1.050e+00, 3.400e+00,\n",
       "        1.050e+03],\n",
       "       [1.316e+01, 2.360e+00, 2.670e+00, ..., 1.030e+00, 3.170e+00,\n",
       "        1.185e+03],\n",
       "       ...,\n",
       "       [1.327e+01, 4.280e+00, 2.260e+00, ..., 5.900e-01, 1.560e+00,\n",
       "        8.350e+02],\n",
       "       [1.317e+01, 2.590e+00, 2.370e+00, ..., 6.000e-01, 1.620e+00,\n",
       "        8.400e+02],\n",
       "       [1.413e+01, 4.100e+00, 2.740e+00, ..., 6.100e-01, 1.600e+00,\n",
       "        5.600e+02]])"
      ]
     },
     "execution_count": 4,
     "metadata": {},
     "output_type": "execute_result"
    }
   ],
   "source": [
    "X"
   ]
  },
  {
   "cell_type": "code",
   "execution_count": 5,
   "metadata": {},
   "outputs": [
    {
     "data": {
      "text/plain": [
       "array([1, 1, 1, 1, 1, 1, 1, 1, 1, 1, 1, 1, 1, 1, 1, 1, 1, 1, 1, 1, 1, 1,\n",
       "       1, 1, 1, 1, 1, 1, 1, 1, 1, 1, 1, 1, 1, 1, 1, 1, 1, 1, 1, 1, 1, 1,\n",
       "       1, 1, 1, 1, 1, 1, 1, 1, 1, 1, 1, 1, 1, 1, 1, 2, 2, 2, 2, 2, 2, 2,\n",
       "       2, 2, 2, 2, 2, 2, 2, 2, 2, 2, 2, 2, 2, 2, 2, 2, 2, 2, 2, 2, 2, 2,\n",
       "       2, 2, 2, 2, 2, 2, 2, 2, 2, 2, 2, 2, 2, 2, 2, 2, 2, 2, 2, 2, 2, 2,\n",
       "       2, 2, 2, 2, 2, 2, 2, 2, 2, 2, 2, 2, 2, 2, 2, 2, 2, 2, 2, 2, 3, 3,\n",
       "       3, 3, 3, 3, 3, 3, 3, 3, 3, 3, 3, 3, 3, 3, 3, 3, 3, 3, 3, 3, 3, 3,\n",
       "       3, 3, 3, 3, 3, 3, 3, 3, 3, 3, 3, 3, 3, 3, 3, 3, 3, 3, 3, 3, 3, 3,\n",
       "       3, 3], dtype=int64)"
      ]
     },
     "execution_count": 5,
     "metadata": {},
     "output_type": "execute_result"
    }
   ],
   "source": [
    "y"
   ]
  },
  {
   "cell_type": "code",
   "execution_count": 6,
   "metadata": {},
   "outputs": [],
   "source": [
    "# Splitting the dataset into the Training set and Test set\n",
    "from sklearn.model_selection import train_test_split\n",
    "X_train, X_test, y_train, y_test = train_test_split(X, y, test_size = 0.25, random_state = 0)"
   ]
  },
  {
   "cell_type": "code",
   "execution_count": 7,
   "metadata": {},
   "outputs": [
    {
     "name": "stdout",
     "output_type": "stream",
     "text": [
      "(133, 13)\n",
      "(45, 13)\n",
      "(133,)\n",
      "(45,)\n"
     ]
    }
   ],
   "source": [
    "print(X_train.shape)\n",
    "print(X_test.shape)\n",
    "print(y_train.shape)\n",
    "print(y_test.shape)"
   ]
  },
  {
   "cell_type": "code",
   "execution_count": 8,
   "metadata": {},
   "outputs": [],
   "source": [
    "# Feature Scaling\n",
    "from sklearn.preprocessing import StandardScaler\n",
    "sc = StandardScaler()\n",
    "X_train = sc.fit_transform(X_train)\n",
    "X_test = sc.transform(X_test)"
   ]
  },
  {
   "cell_type": "code",
   "execution_count": 9,
   "metadata": {},
   "outputs": [],
   "source": [
    "# Applying LDA\n",
    "from sklearn.discriminant_analysis import LinearDiscriminantAnalysis as LDA\n",
    "lda = LDA(n_components = 2)\n",
    "X_train = lda.fit_transform(X_train, y_train)\n",
    "X_test = lda.transform(X_test)"
   ]
  },
  {
   "cell_type": "code",
   "execution_count": 10,
   "metadata": {},
   "outputs": [
    {
     "data": {
      "text/plain": [
       "array([[-3.75722986e+00,  1.78224173e+00],\n",
       "       [ 3.71779979e+00,  8.55757484e-01],\n",
       "       [-4.41722893e-02, -2.02249034e+00],\n",
       "       [ 3.50295061e+00,  1.99910076e+00],\n",
       "       [-3.87566163e+00,  2.65077482e+00],\n",
       "       [ 3.31635950e+00,  7.26729526e-01],\n",
       "       [ 3.76757806e+00,  1.03585429e+00],\n",
       "       [-3.50642318e+00,  1.01134789e-01],\n",
       "       [ 5.56617679e+00,  2.31052117e+00],\n",
       "       [-5.52600002e+00,  6.92702501e-01],\n",
       "       [ 3.34933278e-01, -3.89801248e+00],\n",
       "       [ 4.83234812e+00,  3.19745682e+00],\n",
       "       [ 3.43511567e+00,  9.59123009e-01],\n",
       "       [-1.06452054e+00, -2.32005170e+00],\n",
       "       [ 3.47410738e+00,  6.35730414e-01],\n",
       "       [ 5.06710351e+00,  2.38898005e+00],\n",
       "       [-2.95021113e+00,  1.13904083e+00],\n",
       "       [ 1.87126516e+00, -4.32025549e-01],\n",
       "       [ 3.96376090e+00, -1.85802042e-01],\n",
       "       [-9.49159879e-01, -3.32074700e+00],\n",
       "       [ 1.84114933e+00, -5.83464878e-01],\n",
       "       [ 3.17380882e+00,  1.49403616e+00],\n",
       "       [-4.69174963e-01, -1.18843006e+00],\n",
       "       [-4.01401200e+00,  1.22643116e+00],\n",
       "       [ 2.41908539e+00, -2.41633744e+00],\n",
       "       [-1.19274638e+00, -2.30261770e+00],\n",
       "       [ 2.54081586e+00, -1.08324295e+00],\n",
       "       [-1.62865764e+00,  4.75402524e-01],\n",
       "       [-5.44639445e+00,  2.02327978e+00],\n",
       "       [-2.21713741e+00, -2.38188007e+00],\n",
       "       [-1.88880077e+00, -2.21613035e+00],\n",
       "       [ 5.47159839e+00,  1.51735664e+00],\n",
       "       [ 5.71896935e+00,  1.77938703e+00],\n",
       "       [ 1.21439339e+00, -3.90180089e+00],\n",
       "       [-1.10951972e+00, -3.10038781e+00],\n",
       "       [ 7.91493841e-02, -3.64486676e+00],\n",
       "       [ 5.07276956e+00,  2.58901991e+00],\n",
       "       [ 4.16583730e+00,  3.82003914e-01],\n",
       "       [-3.81161619e+00,  6.82242585e-01],\n",
       "       [ 5.15806933e+00,  2.18938472e+00],\n",
       "       [-7.05565940e-02, -3.12032063e+00],\n",
       "       [ 5.49782271e-01, -2.58183073e+00],\n",
       "       [ 4.81777377e-01, -1.94621769e+00],\n",
       "       [-9.47271531e-01, -2.69145221e+00],\n",
       "       [ 2.47677384e-01, -3.27442224e+00],\n",
       "       [-4.66412560e+00,  2.10417874e+00],\n",
       "       [-2.74657160e+00,  1.22618405e+00],\n",
       "       [-9.70323535e-01, -2.65613212e+00],\n",
       "       [-6.03529447e+00,  2.05320991e+00],\n",
       "       [ 4.27955550e+00,  1.22404709e+00],\n",
       "       [-3.56102240e+00,  3.64602762e-01],\n",
       "       [ 4.63713595e+00,  1.25794961e+00],\n",
       "       [-4.15399940e+00,  2.34532649e-01],\n",
       "       [-3.89495884e+00,  2.80806973e+00],\n",
       "       [-3.85565158e-01, -2.23125362e+00],\n",
       "       [-5.10121965e+00,  2.19942215e+00],\n",
       "       [-1.24482053e+00, -2.87881891e+00],\n",
       "       [ 1.40603770e-01, -2.74122412e+00],\n",
       "       [-4.94831045e+00,  3.60101959e+00],\n",
       "       [ 4.18699949e+00,  2.39822472e+00],\n",
       "       [ 4.12040856e-01, -2.02267161e+00],\n",
       "       [-5.09372053e+00,  2.90914396e+00],\n",
       "       [ 6.06902767e-01,  1.48754279e-01],\n",
       "       [ 1.18189699e+00, -2.82484745e+00],\n",
       "       [-6.04642183e-01, -2.10172486e+00],\n",
       "       [ 2.59531823e+00,  1.01090918e-01],\n",
       "       [-4.19739748e+00,  2.13715873e+00],\n",
       "       [ 5.12929171e+00,  5.84290625e-01],\n",
       "       [ 5.73804704e+00,  1.40897438e-01],\n",
       "       [-6.16151965e+00,  3.38985011e+00],\n",
       "       [-5.40944408e+00,  1.61438995e+00],\n",
       "       [ 1.40002502e+00, -2.52898156e+00],\n",
       "       [ 4.89726201e+00,  2.33040423e+00],\n",
       "       [-4.34535646e+00,  1.83689601e+00],\n",
       "       [-3.87338529e+00,  2.00056647e+00],\n",
       "       [-3.23778354e-02, -2.60462718e+00],\n",
       "       [-3.80595167e-01, -1.77179897e+00],\n",
       "       [-3.43965245e+00,  2.49051650e-02],\n",
       "       [-4.30472611e+00,  2.30750404e+00],\n",
       "       [-2.82799490e+00,  1.02297286e+00],\n",
       "       [ 4.24759571e+00,  3.48453506e+00],\n",
       "       [-1.04157594e+00, -1.35398866e+00],\n",
       "       [-4.90243969e+00,  1.17493343e+00],\n",
       "       [-1.55623962e+00, -2.18578346e+00],\n",
       "       [ 3.24771691e+00,  1.16098759e+00],\n",
       "       [-5.49376373e+00,  2.29563008e+00],\n",
       "       [-6.66169522e-01, -2.63422660e+00],\n",
       "       [ 4.05102186e+00,  1.41372952e-01],\n",
       "       [ 4.62722563e+00,  2.48805918e-03],\n",
       "       [-3.73008060e+00,  1.55110411e+00],\n",
       "       [-3.36731781e+00, -1.33149760e-01],\n",
       "       [ 4.14137298e+00,  4.82025770e-01],\n",
       "       [-4.06277298e+00,  2.92750009e+00],\n",
       "       [ 4.20381962e+00,  9.27890525e-02],\n",
       "       [ 2.34299794e-02, -3.76267700e+00],\n",
       "       [-3.23283004e+00,  1.33740625e+00],\n",
       "       [-4.01172391e+00,  8.43188286e-01],\n",
       "       [-4.84632761e-01, -2.74258911e+00],\n",
       "       [-4.34777396e+00,  2.21893150e+00],\n",
       "       [ 4.44247788e+00,  1.96593033e+00],\n",
       "       [ 9.98121758e-01, -3.05514439e+00],\n",
       "       [ 4.88170752e+00,  1.16732643e+00],\n",
       "       [-3.70161805e+00,  2.40654674e-01],\n",
       "       [ 3.43476601e+00,  9.77510494e-01],\n",
       "       [ 4.31507993e+00,  1.75850675e+00],\n",
       "       [ 4.73718654e+00,  2.26409768e+00],\n",
       "       [-3.47148953e+00,  9.35839032e-01],\n",
       "       [-1.52966148e+00, -3.71309507e+00],\n",
       "       [ 4.16342421e-01, -2.95146044e+00],\n",
       "       [-6.40748609e-01, -2.42607076e+00],\n",
       "       [-1.57941293e-01, -5.76604933e+00],\n",
       "       [ 5.05146408e+00,  1.89983827e+00],\n",
       "       [ 5.60153152e+00,  2.87029835e+00],\n",
       "       [ 4.72130781e-01, -1.63912574e+00],\n",
       "       [ 9.41821351e-01, -1.57478657e+00],\n",
       "       [-2.47826253e+00,  3.66222939e-02],\n",
       "       [-2.19029985e+00, -1.56623624e+00],\n",
       "       [ 4.81200781e+00,  2.26842207e+00],\n",
       "       [ 5.04448985e+00,  2.80590850e+00],\n",
       "       [-3.72739441e+00,  2.30551011e+00],\n",
       "       [-4.44451381e+00,  2.26536318e+00],\n",
       "       [ 2.81222081e+00,  1.07814395e+00],\n",
       "       [ 3.32507897e-02, -1.94457932e+00],\n",
       "       [ 1.36869831e+00, -8.44875564e-01],\n",
       "       [ 2.83727687e-01, -3.31942191e+00],\n",
       "       [-3.11785783e+00,  1.52018276e+00],\n",
       "       [-2.11030772e+00,  6.65330348e-01],\n",
       "       [-4.19830759e+00,  1.38813629e+00],\n",
       "       [ 1.78310181e+00, -3.79508000e+00],\n",
       "       [-8.22863399e-01, -2.68820697e+00],\n",
       "       [-1.11343805e-01, -3.65200649e+00],\n",
       "       [-4.12626825e+00,  7.27352760e-01],\n",
       "       [ 4.41071788e+00,  3.01534038e+00]])"
      ]
     },
     "execution_count": 10,
     "metadata": {},
     "output_type": "execute_result"
    }
   ],
   "source": [
    "X_train"
   ]
  },
  {
   "cell_type": "code",
   "execution_count": 11,
   "metadata": {},
   "outputs": [
    {
     "data": {
      "text/plain": [
       "array([[-3.81260158,  1.42768022],\n",
       "       [ 5.21048071,  1.69416574],\n",
       "       [-0.48912124, -3.3931783 ],\n",
       "       [-2.11280014,  0.86466433],\n",
       "       [-0.18861347, -1.3043133 ],\n",
       "       [-4.96821244, -2.33039876],\n",
       "       [-4.82442302,  2.9027888 ],\n",
       "       [ 5.50222966,  0.86073107],\n",
       "       [-1.1848033 , -2.41061817],\n",
       "       [ 0.64541546, -2.33949018],\n",
       "       [ 2.26869621,  1.72936647],\n",
       "       [ 4.97841089,  1.90056168],\n",
       "       [-5.20565649,  3.17078798],\n",
       "       [-2.45294044, -2.64942247],\n",
       "       [ 4.24871686,  2.05909187],\n",
       "       [-0.5284542 , -4.69082892],\n",
       "       [-4.05483725,  1.79532273],\n",
       "       [-6.42019493,  3.82383717],\n",
       "       [ 2.42567193, -1.08146037],\n",
       "       [-5.04345481,  1.83331459],\n",
       "       [-2.32097763, -2.80635325],\n",
       "       [-2.40944434,  0.95645842],\n",
       "       [-1.75810849,  0.34503493],\n",
       "       [-1.37437851, -2.47069367],\n",
       "       [ 1.15314017, -0.96468356],\n",
       "       [ 0.3729784 , -2.8373037 ],\n",
       "       [-0.99808675, -2.71329767],\n",
       "       [ 0.97235656, -3.34078227],\n",
       "       [-0.93449044, -0.59379071],\n",
       "       [ 4.72918786,  2.04684377],\n",
       "       [-4.64417178,  2.13598551],\n",
       "       [-3.34360227,  1.38376075],\n",
       "       [ 1.06466164, -1.08031311],\n",
       "       [-3.22113427,  2.80021804],\n",
       "       [-4.22014689,  1.75818196],\n",
       "       [-3.08443072, -0.47390734],\n",
       "       [ 3.4147405 ,  1.86402109],\n",
       "       [ 0.97295759, -2.00635492],\n",
       "       [ 0.69901222, -3.15737219],\n",
       "       [ 4.69194652,  1.95287508],\n",
       "       [-3.80191411, -0.02524806],\n",
       "       [-3.43022665,  1.09035402],\n",
       "       [-0.48955259, -3.13982966],\n",
       "       [ 0.08926039, -2.45807002],\n",
       "       [ 1.2010709 , -3.38788916]])"
      ]
     },
     "execution_count": 11,
     "metadata": {},
     "output_type": "execute_result"
    }
   ],
   "source": [
    "X_test"
   ]
  },
  {
   "cell_type": "code",
   "execution_count": 12,
   "metadata": {},
   "outputs": [
    {
     "name": "stderr",
     "output_type": "stream",
     "text": [
      "C:\\ANACONDA\\lib\\site-packages\\sklearn\\linear_model\\logistic.py:432: FutureWarning: Default solver will be changed to 'lbfgs' in 0.22. Specify a solver to silence this warning.\n",
      "  FutureWarning)\n",
      "C:\\ANACONDA\\lib\\site-packages\\sklearn\\linear_model\\logistic.py:469: FutureWarning: Default multi_class will be changed to 'auto' in 0.22. Specify the multi_class option to silence this warning.\n",
      "  \"this warning.\", FutureWarning)\n"
     ]
    },
    {
     "data": {
      "text/plain": [
       "LogisticRegression(C=1.0, class_weight=None, dual=False, fit_intercept=True,\n",
       "                   intercept_scaling=1, l1_ratio=None, max_iter=100,\n",
       "                   multi_class='warn', n_jobs=None, penalty='l2',\n",
       "                   random_state=0, solver='warn', tol=0.0001, verbose=0,\n",
       "                   warm_start=False)"
      ]
     },
     "execution_count": 12,
     "metadata": {},
     "output_type": "execute_result"
    }
   ],
   "source": [
    "# Fitting Logistic Regression to the Training set\n",
    "from sklearn.linear_model import LogisticRegression\n",
    "classifier = LogisticRegression(random_state = 0)\n",
    "classifier.fit(X_train, y_train)"
   ]
  },
  {
   "cell_type": "code",
   "execution_count": 13,
   "metadata": {},
   "outputs": [
    {
     "data": {
      "text/plain": [
       "array([1, 3, 2, 1, 2, 2, 1, 3, 2, 2, 3, 3, 1, 2, 3, 2, 1, 1, 2, 1, 2, 1,\n",
       "       1, 2, 2, 2, 2, 2, 2, 3, 1, 1, 2, 1, 1, 1, 3, 2, 2, 3, 1, 1, 2, 2,\n",
       "       2], dtype=int64)"
      ]
     },
     "execution_count": 13,
     "metadata": {},
     "output_type": "execute_result"
    }
   ],
   "source": [
    "# Predicting the Test set results\n",
    "y_pred = classifier.predict(X_test)\n",
    "y_pred"
   ]
  },
  {
   "cell_type": "code",
   "execution_count": 14,
   "metadata": {},
   "outputs": [
    {
     "data": {
      "text/plain": [
       "array([[16,  0,  0],\n",
       "       [ 0, 21,  0],\n",
       "       [ 0,  0,  8]], dtype=int64)"
      ]
     },
     "execution_count": 14,
     "metadata": {},
     "output_type": "execute_result"
    }
   ],
   "source": [
    "# Making the Confusion Matrix\n",
    "from sklearn.metrics import confusion_matrix, accuracy_score\n",
    "cm = confusion_matrix(y_test, y_pred)\n",
    "cm"
   ]
  },
  {
   "cell_type": "code",
   "execution_count": 15,
   "metadata": {},
   "outputs": [
    {
     "name": "stdout",
     "output_type": "stream",
     "text": [
      "100.0 %\n"
     ]
    }
   ],
   "source": [
    "ac = accuracy_score(y_test,y_pred)\n",
    "print(ac*100,\"%\")"
   ]
  },
  {
   "cell_type": "code",
   "execution_count": 16,
   "metadata": {},
   "outputs": [
    {
     "name": "stderr",
     "output_type": "stream",
     "text": [
      "'c' argument looks like a single numeric RGB or RGBA sequence, which should be avoided as value-mapping will have precedence in case its length matches with 'x' & 'y'.  Please use a 2-D array with a single row if you really want to specify the same RGB or RGBA value for all points.\n",
      "'c' argument looks like a single numeric RGB or RGBA sequence, which should be avoided as value-mapping will have precedence in case its length matches with 'x' & 'y'.  Please use a 2-D array with a single row if you really want to specify the same RGB or RGBA value for all points.\n",
      "'c' argument looks like a single numeric RGB or RGBA sequence, which should be avoided as value-mapping will have precedence in case its length matches with 'x' & 'y'.  Please use a 2-D array with a single row if you really want to specify the same RGB or RGBA value for all points.\n"
     ]
    },
    {
     "data": {
      "image/png": "[encoded data removed]",
      "text/plain": [
       "<Figure size 1152x576 with 1 Axes>"
      ]
     },
     "metadata": {
      "needs_background": "light"
     },
     "output_type": "display_data"
    }
   ],
   "source": [
    "# Visualising the Training set results\n",
    "from matplotlib.colors import ListedColormap\n",
    "\n",
    "X_set, y_set = X_train, y_train\n",
    "\n",
    "X1, X2 = np.meshgrid(np.arange(start = X_set[:, 0].min() - 1, stop = X_set[:, 0].max() + 1, step = 0.01),\n",
    "                     np.arange(start = X_set[:, 1].min() - 1, stop = X_set[:, 1].max() + 1, step = 0.01))\n",
    "\n",
    "plt.figure(figsize=(16,8))\n",
    "\n",
    "plt.contourf(X1, X2, classifier.predict(np.array([X1.ravel(), X2.ravel()]).T).reshape(X1.shape),\n",
    "             alpha = 0.75, cmap = ListedColormap(('red', 'green', 'blue')))\n",
    "\n",
    "plt.xlim(X1.min(), X1.max())\n",
    "plt.ylim(X2.min(), X2.max())\n",
    "\n",
    "for i, j in enumerate(np.unique(y_set)):\n",
    "    plt.scatter(X_set[y_set == j, 0], X_set[y_set == j, 1],\n",
    "                c = ListedColormap(('red', 'green', 'blue'))(i), label = j)\n",
    "plt.title('Logistic Regression (Training set)')\n",
    "plt.xlabel('LD1')\n",
    "plt.ylabel('LD2')\n",
    "plt.legend()\n",
    "plt.show()"
   ]
  },
  {
   "cell_type": "code",
   "execution_count": 17,
   "metadata": {},
   "outputs": [
    {
     "name": "stderr",
     "output_type": "stream",
     "text": [
      "'c' argument looks like a single numeric RGB or RGBA sequence, which should be avoided as value-mapping will have precedence in case its length matches with 'x' & 'y'.  Please use a 2-D array with a single row if you really want to specify the same RGB or RGBA value for all points.\n",
      "'c' argument looks like a single numeric RGB or RGBA sequence, which should be avoided as value-mapping will have precedence in case its length matches with 'x' & 'y'.  Please use a 2-D array with a single row if you really want to specify the same RGB or RGBA value for all points.\n",
      "'c' argument looks like a single numeric RGB or RGBA sequence, which should be avoided as value-mapping will have precedence in case its length matches with 'x' & 'y'.  Please use a 2-D array with a single row if you really want to specify the same RGB or RGBA value for all points.\n"
     ]
    },
    {
     "data": {
      "image/png": "[encoded data removed]",
      "text/plain": [
       "<Figure size 1152x576 with 1 Axes>"
      ]
     },
     "metadata": {
      "needs_background": "light"
     },
     "output_type": "display_data"
    }
   ],
   "source": [
    "# Visualising the Test set results\n",
    "X_set, y_set = X_test, y_test\n",
    "\n",
    "\n",
    "X1, X2 = np.meshgrid(np.arange(start = X_set[:, 0].min() - 1, stop = X_set[:, 0].max() + 1, step = 0.01),\n",
    "                     np.arange(start = X_set[:, 1].min() - 1, stop = X_set[:, 1].max() + 1, step = 0.01))\n",
    "\n",
    "plt.figure(figsize=(16,8))\n",
    "\n",
    "plt.contourf(X1, X2, classifier.predict(np.array([X1.ravel(), X2.ravel()]).T).reshape(X1.shape),\n",
    "             alpha = 0.75, cmap = ListedColormap(('red', 'green', 'blue')))\n",
    "\n",
    "plt.xlim(X1.min(), X1.max())\n",
    "plt.ylim(X2.min(), X2.max())\n",
    "\n",
    "for i, j in enumerate(np.unique(y_set)):\n",
    "    plt.scatter(X_set[y_set == j, 0], X_set[y_set == j, 1],\n",
    "                c = ListedColormap(('red', 'green', 'blue'))(i), label = j)\n",
    "plt.title('Logistic Regression (Test set)')\n",
    "plt.xlabel('LD1')\n",
    "plt.ylabel('LD2')\n",
    "plt.legend()\n",
    "plt.show()"
   ]
  },
  {
   "cell_type": "code",
   "execution_count": null,
   "metadata": {},
   "outputs": [],
   "source": []
  },
  {
   "cell_type": "code",
   "execution_count": null,
   "metadata": {},
   "outputs": [],
   "source": []
  }
 ],
 "metadata": {
  "kernelspec": {
   "display_name": "Python 3",
   "language": "python",
   "name": "python3"
  },
  "language_info": {
   "codemirror_mode": {
    "name": "ipython",
    "version": 3
   },
   "file_extension": ".py",
   "mimetype": "text/x-python",
   "name": "python",
   "nbconvert_exporter": "python",
   "pygments_lexer": "ipython3",
   "version": "3.7.3"
  }
 },
 "nbformat": 4,
 "nbformat_minor": 2
}
