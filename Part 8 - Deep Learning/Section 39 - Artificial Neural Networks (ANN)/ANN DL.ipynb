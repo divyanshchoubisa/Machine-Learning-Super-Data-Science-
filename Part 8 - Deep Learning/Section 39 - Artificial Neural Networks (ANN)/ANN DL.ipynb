{
 "cells": [
  {
   "cell_type": "code",
   "execution_count": 1,
   "metadata": {},
   "outputs": [],
   "source": [
    "import numpy as np\n",
    "import matplotlib.pyplot as plt\n",
    "import pandas as pd"
   ]
  },
  {
   "cell_type": "code",
   "execution_count": 2,
   "metadata": {},
   "outputs": [
    {
     "data": {
      "text/html": [
       "<div>\n",
       "<style scoped>\n",
       "    .dataframe tbody tr th:only-of-type {\n",
       "        vertical-align: middle;\n",
       "    }\n",
       "\n",
       "    .dataframe tbody tr th {\n",
       "        vertical-align: top;\n",
       "    }\n",
       "\n",
       "    .dataframe thead th {\n",
       "        text-align: right;\n",
       "    }\n",
       "</style>\n",
       "<table border=\"1\" class=\"dataframe\">\n",
       "  <thead>\n",
       "    <tr style=\"text-align: right;\">\n",
       "      <th></th>\n",
       "      <th>RowNumber</th>\n",
       "      <th>CustomerId</th>\n",
       "      <th>Surname</th>\n",
       "      <th>CreditScore</th>\n",
       "      <th>Geography</th>\n",
       "      <th>Gender</th>\n",
       "      <th>Age</th>\n",
       "      <th>Tenure</th>\n",
       "      <th>Balance</th>\n",
       "      <th>NumOfProducts</th>\n",
       "      <th>HasCrCard</th>\n",
       "      <th>IsActiveMember</th>\n",
       "      <th>EstimatedSalary</th>\n",
       "      <th>Exited</th>\n",
       "    </tr>\n",
       "  </thead>\n",
       "  <tbody>\n",
       "    <tr>\n",
       "      <th>0</th>\n",
       "      <td>1</td>\n",
       "      <td>15634602</td>\n",
       "      <td>Hargrave</td>\n",
       "      <td>619</td>\n",
       "      <td>France</td>\n",
       "      <td>Female</td>\n",
       "      <td>42</td>\n",
       "      <td>2</td>\n",
       "      <td>0.00</td>\n",
       "      <td>1</td>\n",
       "      <td>1</td>\n",
       "      <td>1</td>\n",
       "      <td>101348.88</td>\n",
       "      <td>1</td>\n",
       "    </tr>\n",
       "    <tr>\n",
       "      <th>1</th>\n",
       "      <td>2</td>\n",
       "      <td>15647311</td>\n",
       "      <td>Hill</td>\n",
       "      <td>608</td>\n",
       "      <td>Spain</td>\n",
       "      <td>Female</td>\n",
       "      <td>41</td>\n",
       "      <td>1</td>\n",
       "      <td>83807.86</td>\n",
       "      <td>1</td>\n",
       "      <td>0</td>\n",
       "      <td>1</td>\n",
       "      <td>112542.58</td>\n",
       "      <td>0</td>\n",
       "    </tr>\n",
       "    <tr>\n",
       "      <th>2</th>\n",
       "      <td>3</td>\n",
       "      <td>15619304</td>\n",
       "      <td>Onio</td>\n",
       "      <td>502</td>\n",
       "      <td>France</td>\n",
       "      <td>Female</td>\n",
       "      <td>42</td>\n",
       "      <td>8</td>\n",
       "      <td>159660.80</td>\n",
       "      <td>3</td>\n",
       "      <td>1</td>\n",
       "      <td>0</td>\n",
       "      <td>113931.57</td>\n",
       "      <td>1</td>\n",
       "    </tr>\n",
       "    <tr>\n",
       "      <th>3</th>\n",
       "      <td>4</td>\n",
       "      <td>15701354</td>\n",
       "      <td>Boni</td>\n",
       "      <td>699</td>\n",
       "      <td>France</td>\n",
       "      <td>Female</td>\n",
       "      <td>39</td>\n",
       "      <td>1</td>\n",
       "      <td>0.00</td>\n",
       "      <td>2</td>\n",
       "      <td>0</td>\n",
       "      <td>0</td>\n",
       "      <td>93826.63</td>\n",
       "      <td>0</td>\n",
       "    </tr>\n",
       "    <tr>\n",
       "      <th>4</th>\n",
       "      <td>5</td>\n",
       "      <td>15737888</td>\n",
       "      <td>Mitchell</td>\n",
       "      <td>850</td>\n",
       "      <td>Spain</td>\n",
       "      <td>Female</td>\n",
       "      <td>43</td>\n",
       "      <td>2</td>\n",
       "      <td>125510.82</td>\n",
       "      <td>1</td>\n",
       "      <td>1</td>\n",
       "      <td>1</td>\n",
       "      <td>79084.10</td>\n",
       "      <td>0</td>\n",
       "    </tr>\n",
       "  </tbody>\n",
       "</table>\n",
       "</div>"
      ],
      "text/plain": [
       "   RowNumber  CustomerId   Surname  CreditScore Geography  Gender  Age  \\\n",
       "0          1    15634602  Hargrave          619    France  Female   42   \n",
       "1          2    15647311      Hill          608     Spain  Female   41   \n",
       "2          3    15619304      Onio          502    France  Female   42   \n",
       "3          4    15701354      Boni          699    France  Female   39   \n",
       "4          5    15737888  Mitchell          850     Spain  Female   43   \n",
       "\n",
       "   Tenure    Balance  NumOfProducts  HasCrCard  IsActiveMember  \\\n",
       "0       2       0.00              1          1               1   \n",
       "1       1   83807.86              1          0               1   \n",
       "2       8  159660.80              3          1               0   \n",
       "3       1       0.00              2          0               0   \n",
       "4       2  125510.82              1          1               1   \n",
       "\n",
       "   EstimatedSalary  Exited  \n",
       "0        101348.88       1  \n",
       "1        112542.58       0  \n",
       "2        113931.57       1  \n",
       "3         93826.63       0  \n",
       "4         79084.10       0  "
      ]
     },
     "execution_count": 2,
     "metadata": {},
     "output_type": "execute_result"
    }
   ],
   "source": [
    "df = pd.read_csv('Churn_Modelling.csv')\n",
    "df.head()"
   ]
  },
  {
   "cell_type": "code",
   "execution_count": 3,
   "metadata": {},
   "outputs": [],
   "source": [
    "X = df.iloc[:, 3:13].values\n",
    "y = df.iloc[:, 13].values"
   ]
  },
  {
   "cell_type": "code",
   "execution_count": 4,
   "metadata": {},
   "outputs": [
    {
     "data": {
      "text/plain": [
       "array([[619, 'France', 'Female', ..., 1, 1, 101348.88],\n",
       "       [608, 'Spain', 'Female', ..., 0, 1, 112542.58],\n",
       "       [502, 'France', 'Female', ..., 1, 0, 113931.57],\n",
       "       ...,\n",
       "       [709, 'France', 'Female', ..., 0, 1, 42085.58],\n",
       "       [772, 'Germany', 'Male', ..., 1, 0, 92888.52],\n",
       "       [792, 'France', 'Female', ..., 1, 0, 38190.78]], dtype=object)"
      ]
     },
     "execution_count": 4,
     "metadata": {},
     "output_type": "execute_result"
    }
   ],
   "source": [
    "X"
   ]
  },
  {
   "cell_type": "code",
   "execution_count": 5,
   "metadata": {},
   "outputs": [
    {
     "data": {
      "text/plain": [
       "array([1, 0, 1, ..., 1, 1, 0], dtype=int64)"
      ]
     },
     "execution_count": 5,
     "metadata": {},
     "output_type": "execute_result"
    }
   ],
   "source": [
    "y"
   ]
  },
  {
   "cell_type": "code",
   "execution_count": 6,
   "metadata": {},
   "outputs": [
    {
     "name": "stderr",
     "output_type": "stream",
     "text": [
      "C:\\ANACONDA\\lib\\site-packages\\sklearn\\preprocessing\\_encoders.py:415: FutureWarning: The handling of integer data will change in version 0.22. Currently, the categories are determined based on the range [0, max(values)], while in the future they will be determined based on the unique values.\n",
      "If you want the future behaviour and silence this warning, you can specify \"categories='auto'\".\n",
      "In case you used a LabelEncoder before this OneHotEncoder to convert the categories to integers, then you can now use the OneHotEncoder directly.\n",
      "  warnings.warn(msg, FutureWarning)\n",
      "C:\\ANACONDA\\lib\\site-packages\\sklearn\\preprocessing\\_encoders.py:451: DeprecationWarning: The 'categorical_features' keyword is deprecated in version 0.20 and will be removed in 0.22. You can use the ColumnTransformer instead.\n",
      "  \"use the ColumnTransformer instead.\", DeprecationWarning)\n"
     ]
    }
   ],
   "source": [
    "from sklearn.preprocessing import LabelEncoder, OneHotEncoder\n",
    "labelencoder_X_1 = LabelEncoder()\n",
    "X[:, 1] = labelencoder_X_1.fit_transform(X[:, 1])\n",
    "labelencoder_X_2 = LabelEncoder()\n",
    "X[:, 2] = labelencoder_X_2.fit_transform(X[:, 2])\n",
    "onehotencoder = OneHotEncoder(categorical_features = [1])\n",
    "X = onehotencoder.fit_transform(X).toarray()\n",
    "X = X[:, 1:]"
   ]
  },
  {
   "cell_type": "code",
   "execution_count": 9,
   "metadata": {},
   "outputs": [
    {
     "data": {
      "text/plain": [
       "array([[     0,      0,    619, ...,      1,      1, 101348],\n",
       "       [     0,      1,    608, ...,      0,      1, 112542],\n",
       "       [     0,      0,    502, ...,      1,      0, 113931],\n",
       "       ...,\n",
       "       [     0,      0,    709, ...,      0,      1,  42085],\n",
       "       [     1,      0,    772, ...,      1,      0,  92888],\n",
       "       [     0,      0,    792, ...,      1,      0,  38190]])"
      ]
     },
     "execution_count": 9,
     "metadata": {},
     "output_type": "execute_result"
    }
   ],
   "source": [
    "X=X.astype(int)\n",
    "X"
   ]
  },
  {
   "cell_type": "code",
   "execution_count": 10,
   "metadata": {},
   "outputs": [
    {
     "data": {
      "text/plain": [
       "array([1, 0, 1, ..., 1, 1, 0], dtype=int64)"
      ]
     },
     "execution_count": 10,
     "metadata": {},
     "output_type": "execute_result"
    }
   ],
   "source": [
    "y"
   ]
  },
  {
   "cell_type": "code",
   "execution_count": 11,
   "metadata": {},
   "outputs": [],
   "source": [
    "# Splitting the dataset into the Training set and Test set\n",
    "from sklearn.model_selection import train_test_split\n",
    "X_train, X_test, y_train, y_test = train_test_split(X, y, test_size = 0.25, random_state = 0)"
   ]
  },
  {
   "cell_type": "code",
   "execution_count": 12,
   "metadata": {},
   "outputs": [
    {
     "name": "stdout",
     "output_type": "stream",
     "text": [
      "(7500, 11)\n",
      "(2500, 11)\n",
      "(7500,)\n",
      "(2500,)\n"
     ]
    }
   ],
   "source": [
    "print(X_train.shape)\n",
    "print(X_test.shape)\n",
    "print(y_train.shape)\n",
    "print(y_test.shape)"
   ]
  },
  {
   "cell_type": "code",
   "execution_count": 13,
   "metadata": {},
   "outputs": [],
   "source": [
    "# Feature Scaling\n",
    "from sklearn.preprocessing import StandardScaler\n",
    "sc = StandardScaler()\n",
    "X_train = sc.fit_transform(X_train)\n",
    "X_test = sc.transform(X_test)"
   ]
  },
  {
   "cell_type": "code",
   "execution_count": 14,
   "metadata": {},
   "outputs": [
    {
     "name": "stderr",
     "output_type": "stream",
     "text": [
      "Using TensorFlow backend.\n"
     ]
    }
   ],
   "source": [
    "import keras\n",
    "from keras.models import Sequential\n",
    "from keras.layers import Dense"
   ]
  },
  {
   "cell_type": "code",
   "execution_count": 15,
   "metadata": {},
   "outputs": [],
   "source": [
    "# Initialising the ANN\n",
    "classifier = Sequential()"
   ]
  },
  {
   "cell_type": "code",
   "execution_count": 16,
   "metadata": {},
   "outputs": [],
   "source": [
    "# Adding the input layer and the first hidden layer\n",
    "classifier.add(Dense(units = 6, kernel_initializer = 'uniform', activation = 'relu', input_dim = 11))\n",
    "\n",
    "# Adding the second hidden layer\n",
    "classifier.add(Dense(units = 6, kernel_initializer = 'uniform', activation = 'relu'))\n",
    "\n",
    "# Adding the output layer\n",
    "classifier.add(Dense(units = 1, kernel_initializer = 'uniform', activation = 'sigmoid'))\n",
    "\n",
    "# Compiling the ANN\n",
    "classifier.compile(optimizer = 'adam', loss = 'binary_crossentropy', metrics = ['accuracy'])\n"
   ]
  },
  {
   "cell_type": "code",
   "execution_count": 17,
   "metadata": {},
   "outputs": [
    {
     "name": "stdout",
     "output_type": "stream",
     "text": [
      "Epoch 1/100\n",
      "7500/7500 [==============================] - 1s 191us/step - loss: 0.4903 - accuracy: 0.7983\n",
      "Epoch 2/100\n",
      "7500/7500 [==============================] - 1s 116us/step - loss: 0.4190 - accuracy: 0.8175\n",
      "Epoch 3/100\n",
      "7500/7500 [==============================] - 1s 127us/step - loss: 0.4139 - accuracy: 0.8209\n",
      "Epoch 4/100\n",
      "7500/7500 [==============================] - 1s 128us/step - loss: 0.4107 - accuracy: 0.8245\n",
      "Epoch 5/100\n",
      "7500/7500 [==============================] - 1s 125us/step - loss: 0.4080 - accuracy: 0.8264\n",
      "Epoch 6/100\n",
      "7500/7500 [==============================] - 1s 130us/step - loss: 0.4062 - accuracy: 0.8288\n",
      "Epoch 7/100\n",
      "7500/7500 [==============================] - 1s 123us/step - loss: 0.4040 - accuracy: 0.8295\n",
      "Epoch 8/100\n",
      "7500/7500 [==============================] - 1s 131us/step - loss: 0.4031 - accuracy: 0.8293\n",
      "Epoch 9/100\n",
      "7500/7500 [==============================] - 1s 143us/step - loss: 0.4011 - accuracy: 0.8312\n",
      "Epoch 10/100\n",
      "7500/7500 [==============================] - 1s 123us/step - loss: 0.3993 - accuracy: 0.8293\n",
      "Epoch 11/100\n",
      "7500/7500 [==============================] - 1s 118us/step - loss: 0.3946 - accuracy: 0.8316\n",
      "Epoch 12/100\n",
      "7500/7500 [==============================] - 1s 130us/step - loss: 0.3842 - accuracy: 0.8365\n",
      "Epoch 13/100\n",
      "7500/7500 [==============================] - 1s 127us/step - loss: 0.3640 - accuracy: 0.8527\n",
      "Epoch 14/100\n",
      "7500/7500 [==============================] - 1s 123us/step - loss: 0.3505 - accuracy: 0.8580\n",
      "Epoch 15/100\n",
      "7500/7500 [==============================] - 1s 123us/step - loss: 0.3432 - accuracy: 0.8627\n",
      "Epoch 16/100\n",
      "7500/7500 [==============================] - 1s 114us/step - loss: 0.3409 - accuracy: 0.8613\n",
      "Epoch 17/100\n",
      "7500/7500 [==============================] - 1s 147us/step - loss: 0.3396 - accuracy: 0.8623\n",
      "Epoch 18/100\n",
      "7500/7500 [==============================] - 1s 120us/step - loss: 0.3396 - accuracy: 0.8629\n",
      "Epoch 19/100\n",
      "7500/7500 [==============================] - 1s 122us/step - loss: 0.3385 - accuracy: 0.8625\n",
      "Epoch 20/100\n",
      "7500/7500 [==============================] - 1s 145us/step - loss: 0.3384 - accuracy: 0.8633\n",
      "Epoch 21/100\n",
      "7500/7500 [==============================] - 1s 148us/step - loss: 0.3381 - accuracy: 0.8619\n",
      "Epoch 22/100\n",
      "7500/7500 [==============================] - 1s 165us/step - loss: 0.3374 - accuracy: 0.8615\n",
      "Epoch 23/100\n",
      "7500/7500 [==============================] - 1s 172us/step - loss: 0.3369 - accuracy: 0.8617\n",
      "Epoch 24/100\n",
      "7500/7500 [==============================] - 1s 185us/step - loss: 0.3373 - accuracy: 0.8615\n",
      "Epoch 25/100\n",
      "7500/7500 [==============================] - 1s 169us/step - loss: 0.3363 - accuracy: 0.8632\n",
      "Epoch 26/100\n",
      "7500/7500 [==============================] - 1s 192us/step - loss: 0.3362 - accuracy: 0.8591\n",
      "Epoch 27/100\n",
      "7500/7500 [==============================] - 1s 182us/step - loss: 0.3360 - accuracy: 0.8641\n",
      "Epoch 28/100\n",
      "7500/7500 [==============================] - 2s 212us/step - loss: 0.3361 - accuracy: 0.8628\n",
      "Epoch 29/100\n",
      "7500/7500 [==============================] - 1s 158us/step - loss: 0.3364 - accuracy: 0.8625\n",
      "Epoch 30/100\n",
      "7500/7500 [==============================] - 1s 141us/step - loss: 0.3355 - accuracy: 0.8600\n",
      "Epoch 31/100\n",
      "7500/7500 [==============================] - 1s 166us/step - loss: 0.3353 - accuracy: 0.8628\n",
      "Epoch 32/100\n",
      "7500/7500 [==============================] - 1s 161us/step - loss: 0.3353 - accuracy: 0.8633\n",
      "Epoch 33/100\n",
      "7500/7500 [==============================] - 1s 159us/step - loss: 0.3358 - accuracy: 0.8627\n",
      "Epoch 34/100\n",
      "7500/7500 [==============================] - 1s 175us/step - loss: 0.3357 - accuracy: 0.8596\n",
      "Epoch 35/100\n",
      "7500/7500 [==============================] - 2s 244us/step - loss: 0.3357 - accuracy: 0.8615\n",
      "Epoch 36/100\n",
      "7500/7500 [==============================] - 2s 237us/step - loss: 0.3355 - accuracy: 0.8616\n",
      "Epoch 37/100\n",
      "7500/7500 [==============================] - 1s 147us/step - loss: 0.3350 - accuracy: 0.8624\n",
      "Epoch 38/100\n",
      "7500/7500 [==============================] - 1s 154us/step - loss: 0.3356 - accuracy: 0.8609\n",
      "Epoch 39/100\n",
      "7500/7500 [==============================] - 1s 146us/step - loss: 0.3346 - accuracy: 0.8624\n",
      "Epoch 40/100\n",
      "7500/7500 [==============================] - 1s 153us/step - loss: 0.3351 - accuracy: 0.8605\n",
      "Epoch 41/100\n",
      "7500/7500 [==============================] - 1s 154us/step - loss: 0.3350 - accuracy: 0.8632\n",
      "Epoch 42/100\n",
      "7500/7500 [==============================] - 1s 156us/step - loss: 0.3354 - accuracy: 0.8624\n",
      "Epoch 43/100\n",
      "7500/7500 [==============================] - 1s 152us/step - loss: 0.3349 - accuracy: 0.8619\n",
      "Epoch 44/100\n",
      "7500/7500 [==============================] - 1s 172us/step - loss: 0.3347 - accuracy: 0.8633\n",
      "Epoch 45/100\n",
      "7500/7500 [==============================] - 1s 149us/step - loss: 0.3349 - accuracy: 0.8616\n",
      "Epoch 46/100\n",
      "7500/7500 [==============================] - 1s 155us/step - loss: 0.3347 - accuracy: 0.8615\n",
      "Epoch 47/100\n",
      "7500/7500 [==============================] - 1s 160us/step - loss: 0.3346 - accuracy: 0.8616\n",
      "Epoch 48/100\n",
      "7500/7500 [==============================] - 1s 162us/step - loss: 0.3348 - accuracy: 0.86430s -\n",
      "Epoch 49/100\n",
      "7500/7500 [==============================] - 1s 157us/step - loss: 0.3344 - accuracy: 0.8615\n",
      "Epoch 50/100\n",
      "7500/7500 [==============================] - 1s 159us/step - loss: 0.3350 - accuracy: 0.8627\n",
      "Epoch 51/100\n",
      "7500/7500 [==============================] - 1s 156us/step - loss: 0.3346 - accuracy: 0.8628\n",
      "Epoch 52/100\n",
      "7500/7500 [==============================] - 1s 154us/step - loss: 0.3344 - accuracy: 0.8643\n",
      "Epoch 53/100\n",
      "7500/7500 [==============================] - 1s 173us/step - loss: 0.3347 - accuracy: 0.8625\n",
      "Epoch 54/100\n",
      "7500/7500 [==============================] - 1s 158us/step - loss: 0.3345 - accuracy: 0.8624\n",
      "Epoch 55/100\n",
      "7500/7500 [==============================] - 1s 166us/step - loss: 0.3347 - accuracy: 0.8617\n",
      "Epoch 56/100\n",
      "7500/7500 [==============================] - 1s 169us/step - loss: 0.3341 - accuracy: 0.8625\n",
      "Epoch 57/100\n",
      "7500/7500 [==============================] - 1s 153us/step - loss: 0.3346 - accuracy: 0.8637\n",
      "Epoch 58/100\n",
      "7500/7500 [==============================] - 1s 162us/step - loss: 0.3345 - accuracy: 0.8633\n",
      "Epoch 59/100\n",
      "7500/7500 [==============================] - 1s 161us/step - loss: 0.3345 - accuracy: 0.8604\n",
      "Epoch 60/100\n",
      "7500/7500 [==============================] - 1s 158us/step - loss: 0.3343 - accuracy: 0.8623\n",
      "Epoch 61/100\n",
      "7500/7500 [==============================] - 1s 156us/step - loss: 0.3338 - accuracy: 0.8643\n",
      "Epoch 62/100\n",
      "7500/7500 [==============================] - 1s 176us/step - loss: 0.3347 - accuracy: 0.8621\n",
      "Epoch 63/100\n",
      "7500/7500 [==============================] - 1s 158us/step - loss: 0.3343 - accuracy: 0.8633\n",
      "Epoch 64/100\n",
      "7500/7500 [==============================] - 1s 163us/step - loss: 0.3340 - accuracy: 0.8620\n",
      "Epoch 65/100\n",
      "7500/7500 [==============================] - 1s 175us/step - loss: 0.3342 - accuracy: 0.8635\n",
      "Epoch 66/100\n",
      "7500/7500 [==============================] - 1s 156us/step - loss: 0.3338 - accuracy: 0.8632\n",
      "Epoch 67/100\n",
      "7500/7500 [==============================] - 1s 152us/step - loss: 0.3342 - accuracy: 0.8633\n",
      "Epoch 68/100\n",
      "7500/7500 [==============================] - 1s 155us/step - loss: 0.3339 - accuracy: 0.8633\n",
      "Epoch 69/100\n",
      "7500/7500 [==============================] - 1s 162us/step - loss: 0.3344 - accuracy: 0.8613\n",
      "Epoch 70/100\n",
      "7500/7500 [==============================] - 1s 197us/step - loss: 0.3344 - accuracy: 0.8640\n",
      "Epoch 71/100\n",
      "7500/7500 [==============================] - 1s 147us/step - loss: 0.3341 - accuracy: 0.8624\n",
      "Epoch 72/100\n",
      "7500/7500 [==============================] - 1s 169us/step - loss: 0.3341 - accuracy: 0.8636\n",
      "Epoch 73/100\n",
      "7500/7500 [==============================] - 1s 160us/step - loss: 0.3342 - accuracy: 0.8647\n",
      "Epoch 74/100\n",
      "7500/7500 [==============================] - 1s 161us/step - loss: 0.3340 - accuracy: 0.8619\n",
      "Epoch 75/100\n",
      "7500/7500 [==============================] - 1s 164us/step - loss: 0.3331 - accuracy: 0.8637\n",
      "Epoch 76/100\n",
      "7500/7500 [==============================] - 1s 153us/step - loss: 0.3334 - accuracy: 0.8651\n",
      "Epoch 77/100\n",
      "7500/7500 [==============================] - 1s 145us/step - loss: 0.3341 - accuracy: 0.8621\n",
      "Epoch 78/100\n"
     ]
    },
    {
     "name": "stdout",
     "output_type": "stream",
     "text": [
      "7500/7500 [==============================] - 1s 154us/step - loss: 0.3336 - accuracy: 0.8637\n",
      "Epoch 79/100\n",
      "7500/7500 [==============================] - 1s 171us/step - loss: 0.3340 - accuracy: 0.8627\n",
      "Epoch 80/100\n",
      "7500/7500 [==============================] - 1s 158us/step - loss: 0.3337 - accuracy: 0.8657\n",
      "Epoch 81/100\n",
      "7500/7500 [==============================] - 1s 159us/step - loss: 0.3335 - accuracy: 0.8627\n",
      "Epoch 82/100\n",
      "7500/7500 [==============================] - 1s 154us/step - loss: 0.3327 - accuracy: 0.8645\n",
      "Epoch 83/100\n",
      "7500/7500 [==============================] - 1s 154us/step - loss: 0.3341 - accuracy: 0.8621\n",
      "Epoch 84/100\n",
      "7500/7500 [==============================] - 1s 198us/step - loss: 0.3339 - accuracy: 0.86360s - los\n",
      "Epoch 85/100\n",
      "7500/7500 [==============================] - 1s 170us/step - loss: 0.3335 - accuracy: 0.8635\n",
      "Epoch 86/100\n",
      "7500/7500 [==============================] - 1s 187us/step - loss: 0.3342 - accuracy: 0.8639\n",
      "Epoch 87/100\n",
      "7500/7500 [==============================] - 1s 196us/step - loss: 0.3334 - accuracy: 0.8633\n",
      "Epoch 88/100\n",
      "7500/7500 [==============================] - 1s 148us/step - loss: 0.3343 - accuracy: 0.8625\n",
      "Epoch 89/100\n",
      "7500/7500 [==============================] - 1s 185us/step - loss: 0.3333 - accuracy: 0.8656\n",
      "Epoch 90/100\n",
      "7500/7500 [==============================] - 1s 134us/step - loss: 0.3343 - accuracy: 0.8625\n",
      "Epoch 91/100\n",
      "7500/7500 [==============================] - 1s 158us/step - loss: 0.3333 - accuracy: 0.8620\n",
      "Epoch 92/100\n",
      "7500/7500 [==============================] - 1s 120us/step - loss: 0.3335 - accuracy: 0.8603\n",
      "Epoch 93/100\n",
      "7500/7500 [==============================] - 1s 119us/step - loss: 0.3336 - accuracy: 0.8635\n",
      "Epoch 94/100\n",
      "7500/7500 [==============================] - 1s 119us/step - loss: 0.3335 - accuracy: 0.8637\n",
      "Epoch 95/100\n",
      "7500/7500 [==============================] - 1s 128us/step - loss: 0.3338 - accuracy: 0.8635\n",
      "Epoch 96/100\n",
      "7500/7500 [==============================] - 1s 121us/step - loss: 0.3336 - accuracy: 0.8635\n",
      "Epoch 97/100\n",
      "7500/7500 [==============================] - 1s 154us/step - loss: 0.3334 - accuracy: 0.8619\n",
      "Epoch 98/100\n",
      "7500/7500 [==============================] - 1s 123us/step - loss: 0.3333 - accuracy: 0.8652\n",
      "Epoch 99/100\n",
      "7500/7500 [==============================] - 1s 133us/step - loss: 0.3333 - accuracy: 0.8623\n",
      "Epoch 100/100\n",
      "7500/7500 [==============================] - 1s 134us/step - loss: 0.3335 - accuracy: 0.8641\n"
     ]
    },
    {
     "data": {
      "text/plain": [
       "<keras.callbacks.callbacks.History at 0x163bd413d30>"
      ]
     },
     "execution_count": 17,
     "metadata": {},
     "output_type": "execute_result"
    }
   ],
   "source": [
    "# Fitting the ANN to the Training set\n",
    "classifier.fit(X_train, y_train, batch_size = 10, epochs = 100)"
   ]
  },
  {
   "cell_type": "code",
   "execution_count": 24,
   "metadata": {},
   "outputs": [
    {
     "data": {
      "text/plain": [
       "array([[0.23175211],\n",
       "       [0.27856433],\n",
       "       [0.15258873],\n",
       "       ...,\n",
       "       [0.26146084],\n",
       "       [0.08645429],\n",
       "       [0.04964368]], dtype=float32)"
      ]
     },
     "execution_count": 24,
     "metadata": {},
     "output_type": "execute_result"
    }
   ],
   "source": [
    "y_pred = classifier.predict(X_test)\n",
    "y_pred"
   ]
  },
  {
   "cell_type": "code",
   "execution_count": 25,
   "metadata": {},
   "outputs": [
    {
     "data": {
      "text/plain": [
       "array([[False],\n",
       "       [False],\n",
       "       [False],\n",
       "       ...,\n",
       "       [False],\n",
       "       [False],\n",
       "       [False]])"
      ]
     },
     "execution_count": 25,
     "metadata": {},
     "output_type": "execute_result"
    }
   ],
   "source": [
    "y_pred = (y_pred > 0.5)\n",
    "y_pred"
   ]
  },
  {
   "cell_type": "code",
   "execution_count": 26,
   "metadata": {},
   "outputs": [
    {
     "data": {
      "text/plain": [
       "array([[1898,   93],\n",
       "       [ 256,  253]], dtype=int64)"
      ]
     },
     "execution_count": 26,
     "metadata": {},
     "output_type": "execute_result"
    }
   ],
   "source": [
    "from sklearn.metrics import confusion_matrix\n",
    "cm = confusion_matrix(y_test, y_pred)\n",
    "cm"
   ]
  },
  {
   "cell_type": "code",
   "execution_count": 27,
   "metadata": {},
   "outputs": [
    {
     "name": "stdout",
     "output_type": "stream",
     "text": [
      "[[1898   93]\n",
      " [ 256  253]]\n",
      "86.04\n"
     ]
    }
   ],
   "source": [
    "from sklearn.metrics import confusion_matrix, accuracy_score\n",
    "\n",
    "lr_conf = confusion_matrix(y_test, y_pred)\n",
    "lr_acc = accuracy_score(y_test, y_pred)\n",
    "print(lr_conf)\n",
    "print(lr_acc*100)"
   ]
  },
  {
   "cell_type": "code",
   "execution_count": null,
   "metadata": {},
   "outputs": [],
   "source": []
  }
 ],
 "metadata": {
  "kernelspec": {
   "display_name": "Python 3",
   "language": "python",
   "name": "python3"
  },
  "language_info": {
   "codemirror_mode": {
    "name": "ipython",
    "version": 3
   },
   "file_extension": ".py",
   "mimetype": "text/x-python",
   "name": "python",
   "nbconvert_exporter": "python",
   "pygments_lexer": "ipython3",
   "version": "3.7.3"
  }
 },
 "nbformat": 4,
 "nbformat_minor": 2
}
